{
 "cells": [
  {
   "cell_type": "markdown",
   "metadata": {},
   "source": [
    "# Requerimientos"
   ]
  },
  {
   "cell_type": "code",
   "execution_count": 22,
   "metadata": {},
   "outputs": [],
   "source": [
    "import re\n",
    "import pandas as pd\n",
    "import json\n",
    "from collections import Counter"
   ]
  },
  {
   "cell_type": "markdown",
   "metadata": {},
   "source": [
    "# Carga de la Data"
   ]
  },
  {
   "cell_type": "code",
   "execution_count": 3,
   "metadata": {},
   "outputs": [
    {
     "data": {
      "text/plain": [
       "'/Users/ignacioloyola/Desktop/Python/challenge_DE'"
      ]
     },
     "execution_count": 3,
     "metadata": {},
     "output_type": "execute_result"
    }
   ],
   "source": [
    "%pwd"
   ]
  },
  {
   "cell_type": "code",
   "execution_count": 10,
   "metadata": {},
   "outputs": [],
   "source": [
    "# Cargamos la data localmente\n",
    "file_path = \"../farmers-protest-tweets-2021-2-4.json\""
   ]
  },
  {
   "cell_type": "code",
   "execution_count": 12,
   "metadata": {},
   "outputs": [],
   "source": [
    "# Se lee cada objeto, separado por linea, del archivo JSON\n",
    "tweets_data = []\n",
    "with open(file_path, \"r\", encoding=\"utf-8\") as file:\n",
    "    for line in file:\n",
    "        try:\n",
    "            tweet = json.loads(line)\n",
    "            tweets_data.append(tweet)\n",
    "        except json.JSONDecodeError as e:\n",
    "            print(f\"Error decoding JSON: {e}\")\n"
   ]
  },
  {
   "cell_type": "code",
   "execution_count": 19,
   "metadata": {},
   "outputs": [
    {
     "data": {
      "text/plain": [
       "{'url': 'https://twitter.com/ArjunSinghPanam/status/1364506249291784198',\n",
       " 'date': '2021-02-24T09:23:35+00:00',\n",
       " 'content': 'The world progresses while the Indian police and Govt are still trying to take India back to the horrific past through its tyranny. \\n\\n@narendramodi @DelhiPolice Shame on you. \\n\\n#ModiDontSellFarmers \\n#FarmersProtest \\n#FreeNodeepKaur https://t.co/es3kn0IQAF',\n",
       " 'renderedContent': 'The world progresses while the Indian police and Govt are still trying to take India back to the horrific past through its tyranny. \\n\\n@narendramodi @DelhiPolice Shame on you. \\n\\n#ModiDontSellFarmers \\n#FarmersProtest \\n#FreeNodeepKaur twitter.com/ravisinghka/st…',\n",
       " 'id': 1364506249291784198,\n",
       " 'user': {'username': 'ArjunSinghPanam',\n",
       "  'displayname': 'Arjun Singh Panam',\n",
       "  'id': 45091142,\n",
       "  'description': 'Global Citizen, Actor, Director: Sky is the roof above my head, the world is the road I travel, love is my food & mother earth is my bed. Roy in @CosmosMovie',\n",
       "  'rawDescription': 'Global Citizen, Actor, Director: Sky is the roof above my head, the world is the road I travel, love is my food & mother earth is my bed. Roy in @CosmosMovie',\n",
       "  'descriptionUrls': [],\n",
       "  'verified': False,\n",
       "  'created': '2009-06-06T07:50:57+00:00',\n",
       "  'followersCount': 603,\n",
       "  'friendsCount': 311,\n",
       "  'statusesCount': 17534,\n",
       "  'favouritesCount': 4269,\n",
       "  'listedCount': 23,\n",
       "  'mediaCount': 1211,\n",
       "  'location': '',\n",
       "  'protected': False,\n",
       "  'linkUrl': 'https://www.cosmosmovieofficial.com',\n",
       "  'linkTcourl': 'https://t.co/3uaoV3gCt3',\n",
       "  'profileImageUrl': 'https://pbs.twimg.com/profile_images/1215541746492461056/3De61YoQ_normal.jpg',\n",
       "  'profileBannerUrl': 'https://pbs.twimg.com/profile_banners/45091142/1612601766',\n",
       "  'url': 'https://twitter.com/ArjunSinghPanam'},\n",
       " 'outlinks': ['https://twitter.com/ravisinghka/status/1364150844757860352'],\n",
       " 'tcooutlinks': ['https://t.co/es3kn0IQAF'],\n",
       " 'replyCount': 0,\n",
       " 'retweetCount': 0,\n",
       " 'likeCount': 0,\n",
       " 'quoteCount': 0,\n",
       " 'conversationId': 1364506249291784198,\n",
       " 'lang': 'en',\n",
       " 'source': '<a href=\"http://twitter.com/download/iphone\" rel=\"nofollow\">Twitter for iPhone</a>',\n",
       " 'sourceUrl': 'http://twitter.com/download/iphone',\n",
       " 'sourceLabel': 'Twitter for iPhone',\n",
       " 'media': None,\n",
       " 'retweetedTweet': None,\n",
       " 'quotedTweet': {'url': 'https://twitter.com/RaviSinghKA/status/1364150844757860352',\n",
       "  'date': '2021-02-23T09:51:20+00:00',\n",
       "  'content': 'This is what the indian police are good at, beating &amp; raping women ! @police_haryana @DelhiPolice \\n\\nhttps://t.co/mj1qzF7nGh',\n",
       "  'renderedContent': 'This is what the indian police are good at, beating &amp; raping women ! @police_haryana @DelhiPolice \\n\\ngoogle.co.uk/amp/s/m.timeso…',\n",
       "  'id': 1364150844757860352,\n",
       "  'user': {'username': 'RaviSinghKA',\n",
       "   'displayname': 'ravinder singh',\n",
       "   'id': 2347762888,\n",
       "   'description': 'Founder/CEO of Khalsa Aid, Sikh,philanthropist, 20 Years of coordinating aid,humanitarian & passionate about human rights.All views my own:Inc working in Iraq',\n",
       "   'rawDescription': 'Founder/CEO of Khalsa Aid, Sikh,philanthropist, 20 Years of coordinating aid,humanitarian & passionate about human rights.All views my own:Inc working in Iraq',\n",
       "   'descriptionUrls': [],\n",
       "   'verified': False,\n",
       "   'created': '2014-02-16T23:38:54+00:00',\n",
       "   'followersCount': 227423,\n",
       "   'friendsCount': 4042,\n",
       "   'statusesCount': 38683,\n",
       "   'favouritesCount': 30134,\n",
       "   'listedCount': 212,\n",
       "   'mediaCount': 4944,\n",
       "   'location': 'Slough, England ',\n",
       "   'protected': False,\n",
       "   'linkUrl': 'http://www.khalsaaid.org',\n",
       "   'linkTcourl': 'https://t.co/cgdi8BLkK2',\n",
       "   'profileImageUrl': 'https://pbs.twimg.com/profile_images/686526444642643968/bnCPdE7N_normal.jpg',\n",
       "   'profileBannerUrl': 'https://pbs.twimg.com/profile_banners/2347762888/1591307489',\n",
       "   'url': 'https://twitter.com/RaviSinghKA'},\n",
       "  'outlinks': ['https://www.google.co.uk/amp/s/m.timesofindia.com/city/chandigarh/was-brutally-thrashed-in-thana-nodeep-kaur-tells-punjab-and-haryana-high-court/amp_articleshow/81164092.cms'],\n",
       "  'tcooutlinks': ['https://t.co/mj1qzF7nGh'],\n",
       "  'replyCount': 66,\n",
       "  'retweetCount': 744,\n",
       "  'likeCount': 1939,\n",
       "  'quoteCount': 59,\n",
       "  'conversationId': 1364150844757860352,\n",
       "  'lang': 'en',\n",
       "  'source': '<a href=\"http://twitter.com/download/iphone\" rel=\"nofollow\">Twitter for iPhone</a>',\n",
       "  'sourceUrl': 'http://twitter.com/download/iphone',\n",
       "  'sourceLabel': 'Twitter for iPhone',\n",
       "  'media': None,\n",
       "  'retweetedTweet': None,\n",
       "  'quotedTweet': None,\n",
       "  'mentionedUsers': [{'username': 'police_haryana',\n",
       "    'displayname': 'Haryana Police',\n",
       "    'id': 887564756629966848,\n",
       "    'description': None,\n",
       "    'rawDescription': None,\n",
       "    'descriptionUrls': None,\n",
       "    'verified': None,\n",
       "    'created': None,\n",
       "    'followersCount': None,\n",
       "    'friendsCount': None,\n",
       "    'statusesCount': None,\n",
       "    'favouritesCount': None,\n",
       "    'listedCount': None,\n",
       "    'mediaCount': None,\n",
       "    'location': None,\n",
       "    'protected': None,\n",
       "    'linkUrl': None,\n",
       "    'linkTcourl': None,\n",
       "    'profileImageUrl': None,\n",
       "    'profileBannerUrl': None,\n",
       "    'url': 'https://twitter.com/police_haryana'},\n",
       "   {'username': 'DelhiPolice',\n",
       "    'displayname': '#DilKiPolice Delhi Police',\n",
       "    'id': 1850705408,\n",
       "    'description': None,\n",
       "    'rawDescription': None,\n",
       "    'descriptionUrls': None,\n",
       "    'verified': None,\n",
       "    'created': None,\n",
       "    'followersCount': None,\n",
       "    'friendsCount': None,\n",
       "    'statusesCount': None,\n",
       "    'favouritesCount': None,\n",
       "    'listedCount': None,\n",
       "    'mediaCount': None,\n",
       "    'location': None,\n",
       "    'protected': None,\n",
       "    'linkUrl': None,\n",
       "    'linkTcourl': None,\n",
       "    'profileImageUrl': None,\n",
       "    'profileBannerUrl': None,\n",
       "    'url': 'https://twitter.com/DelhiPolice'}]},\n",
       " 'mentionedUsers': [{'username': 'narendramodi',\n",
       "   'displayname': 'Narendra Modi',\n",
       "   'id': 18839785,\n",
       "   'description': None,\n",
       "   'rawDescription': None,\n",
       "   'descriptionUrls': None,\n",
       "   'verified': None,\n",
       "   'created': None,\n",
       "   'followersCount': None,\n",
       "   'friendsCount': None,\n",
       "   'statusesCount': None,\n",
       "   'favouritesCount': None,\n",
       "   'listedCount': None,\n",
       "   'mediaCount': None,\n",
       "   'location': None,\n",
       "   'protected': None,\n",
       "   'linkUrl': None,\n",
       "   'linkTcourl': None,\n",
       "   'profileImageUrl': None,\n",
       "   'profileBannerUrl': None,\n",
       "   'url': 'https://twitter.com/narendramodi'},\n",
       "  {'username': 'DelhiPolice',\n",
       "   'displayname': '#DilKiPolice Delhi Police',\n",
       "   'id': 1850705408,\n",
       "   'description': None,\n",
       "   'rawDescription': None,\n",
       "   'descriptionUrls': None,\n",
       "   'verified': None,\n",
       "   'created': None,\n",
       "   'followersCount': None,\n",
       "   'friendsCount': None,\n",
       "   'statusesCount': None,\n",
       "   'favouritesCount': None,\n",
       "   'listedCount': None,\n",
       "   'mediaCount': None,\n",
       "   'location': None,\n",
       "   'protected': None,\n",
       "   'linkUrl': None,\n",
       "   'linkTcourl': None,\n",
       "   'profileImageUrl': None,\n",
       "   'profileBannerUrl': None,\n",
       "   'url': 'https://twitter.com/DelhiPolice'}]}"
      ]
     },
     "execution_count": 19,
     "metadata": {},
     "output_type": "execute_result"
    }
   ],
   "source": [
    "tweets_data[0]"
   ]
  },
  {
   "cell_type": "code",
   "execution_count": 21,
   "metadata": {},
   "outputs": [
    {
     "name": "stdout",
     "output_type": "stream",
     "text": [
      "Numero total de tweets: 117407\n"
     ]
    }
   ],
   "source": [
    "total_tweets = len(tweets_data)\n",
    "print(\"Numero total de tweets:\", total_tweets)"
   ]
  },
  {
   "cell_type": "code",
   "execution_count": 23,
   "metadata": {},
   "outputs": [
    {
     "name": "stdout",
     "output_type": "stream",
     "text": [
      "Los 10 emojis más usados:\n",
      "#: 332978 veces\n",
      "/: 239012 veces\n",
      ".: 161662 veces\n",
      "ा: 136407 veces\n",
      "@: 104230 veces\n",
      ":: 85059 veces\n",
      "े: 82298 veces\n",
      "ਾ: 66686 veces\n",
      "ी: 60947 veces\n",
      "ि: 53414 veces\n"
     ]
    }
   ],
   "source": [
    "emoji_pattern = re.compile(r\"[^\\w\\s,]\")\n",
    "emojis_counter = Counter()\n",
    "\n",
    "for tweet in tweets_data:\n",
    "    content = tweet.get(\"content\", \"\")\n",
    "    emojis = emoji_pattern.findall(content)\n",
    "    emojis_counter.update(emojis)\n",
    "\n",
    "# Obtener los 10 emojis más usados\n",
    "top_emojis = emojis_counter.most_common(10)\n",
    "print(\"Los 10 emojis más usados:\")\n",
    "for emoji, count in top_emojis:\n",
    "    print(f\"{emoji}: {count} veces\")"
   ]
  },
  {
   "cell_type": "code",
   "execution_count": null,
   "metadata": {},
   "outputs": [],
   "source": []
  }
 ],
 "metadata": {
  "kernelspec": {
   "display_name": "Python 3",
   "language": "python",
   "name": "python3"
  },
  "language_info": {
   "codemirror_mode": {
    "name": "ipython",
    "version": 3
   },
   "file_extension": ".py",
   "mimetype": "text/x-python",
   "name": "python",
   "nbconvert_exporter": "python",
   "pygments_lexer": "ipython3",
   "version": "3.12.2"
  }
 },
 "nbformat": 4,
 "nbformat_minor": 2
}
